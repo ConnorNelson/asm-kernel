{
 "cells": [
  {
   "cell_type": "code",
   "execution_count": 1,
   "id": "thirty-fashion",
   "metadata": {},
   "outputs": [
    {
     "data": {
      "text/html": []
     },
     "metadata": {},
     "output_type": "display_data"
    }
   ],
   "source": [
    "hello_world:\n",
    "    .string \"hello world\\n\""
   ]
  },
  {
   "cell_type": "markdown",
   "id": "visible-ontario",
   "metadata": {},
   "source": [
    "# strlen\n",
    "Computes the length of the specified string\n",
    "\n",
    "## args\n",
    "- `rdi`: ptr to string\n",
    "\n",
    "## return\n",
    "- `rax`: the length"
   ]
  },
  {
   "cell_type": "code",
   "execution_count": 2,
   "id": "polish-ballot",
   "metadata": {},
   "outputs": [
    {
     "data": {
      "text/html": []
     },
     "metadata": {},
     "output_type": "display_data"
    }
   ],
   "source": [
    "strlen:\n",
    "    mov rax, 0\n",
    ".L.strlen.loop:\n",
    "    mov bl, [rdi+rax]\n",
    "    cmp bl, 0\n",
    "    je .L.strlen.ret\n",
    "    inc rax\n",
    "    jmp .L.strlen.loop\n",
    ".L.strlen.ret:\n",
    "    ret"
   ]
  },
  {
   "cell_type": "markdown",
   "id": "fantastic-symbol",
   "metadata": {},
   "source": [
    "# puts\n",
    "Outputs the specified string to stdout.\n",
    "\n",
    "## args\n",
    "- `rdi`: ptr to string"
   ]
  },
  {
   "cell_type": "code",
   "execution_count": 3,
   "id": "durable-henry",
   "metadata": {},
   "outputs": [
    {
     "data": {
      "text/html": []
     },
     "metadata": {},
     "output_type": "display_data"
    }
   ],
   "source": [
    "puts:\n",
    "    mov rsi, rdi\n",
    "    call strlen\n",
    "    mov rdx, rax\n",
    "    mov rdi, 1\n",
    "    mov rax, SYS_write\n",
    "    syscall\n",
    "    ret"
   ]
  },
  {
   "cell_type": "markdown",
   "id": "short-thousand",
   "metadata": {},
   "source": [
    "# exit\n",
    "Exits the program."
   ]
  },
  {
   "cell_type": "code",
   "execution_count": 4,
   "id": "defensive-riverside",
   "metadata": {},
   "outputs": [
    {
     "data": {
      "text/html": []
     },
     "metadata": {},
     "output_type": "display_data"
    }
   ],
   "source": [
    "exit:\n",
    "    mov rdi, 0\n",
    "    mov rax, SYS_exit\n",
    "    syscall"
   ]
  },
  {
   "cell_type": "markdown",
   "id": "registered-algebra",
   "metadata": {},
   "source": [
    "# _start\n",
    "The entrypoint to the program."
   ]
  },
  {
   "cell_type": "code",
   "execution_count": 5,
   "id": "neither-poison",
   "metadata": {},
   "outputs": [
    {
     "data": {
      "text/html": [
       "<h3>stdout</h3><code>hello world\n",
       "</code><h3>stderr</h3><code></code><h3>returncode</h3><code>0</code>"
      ]
     },
     "metadata": {},
     "output_type": "display_data"
    }
   ],
   "source": [
    "_start:\n",
    "    lea rdi, hello_world\n",
    "    call puts\n",
    "    call exit"
   ]
  },
  {
   "cell_type": "code",
   "execution_count": 6,
   "id": "legislative-canadian",
   "metadata": {},
   "outputs": [
    {
     "data": {
      "text/html": [
       "<h3>readelf</h3><code>ELF Header:\n",
       "  Magic:   7f 45 4c 46 02 01 01 00 00 00 00 00 00 00 00 00 \n",
       "  Class:                             ELF64\n",
       "  Data:                              2's complement, little endian\n",
       "  Version:                           1 (current)\n",
       "  OS/ABI:                            UNIX - System V\n",
       "  ABI Version:                       0\n",
       "  Type:                              EXEC (Executable file)\n",
       "  Machine:                           Advanced Micro Devices X86-64\n",
       "  Version:                           0x1\n",
       "  Entry point address:               0x40104e\n",
       "  Start of program headers:          64 (bytes into file)\n",
       "  Start of section headers:          4664 (bytes into file)\n",
       "  Flags:                             0x0\n",
       "  Size of this header:               64 (bytes)\n",
       "  Size of program headers:           56 (bytes)\n",
       "  Number of program headers:         3\n",
       "  Size of section headers:           64 (bytes)\n",
       "  Number of section headers:         6\n",
       "  Section header string table index: 5\n",
       "\n",
       "Section Headers:\n",
       "  [Nr] Name              Type             Address           Offset\n",
       "       Size              EntSize          Flags  Link  Info  Align\n",
       "  [ 0]                   NULL             0000000000000000  00000000\n",
       "       0000000000000000  0000000000000000           0     0     0\n",
       "  [ 1] .note.gnu.build-i NOTE             00000000004000e8  000000e8\n",
       "       0000000000000024  0000000000000000   A       0     0     4\n",
       "  [ 2] .text             PROGBITS         0000000000401000  00001000\n",
       "       0000000000000060  0000000000000000  AX       0     0     1\n",
       "  [ 3] .symtab           SYMTAB           0000000000000000  00001060\n",
       "       0000000000000150  0000000000000018           4    10     8\n",
       "  [ 4] .strtab           STRTAB           0000000000000000  000011b0\n",
       "       0000000000000054  0000000000000000           0     0     1\n",
       "  [ 5] .shstrtab         STRTAB           0000000000000000  00001204\n",
       "       0000000000000034  0000000000000000           0     0     1\n",
       "Key to Flags:\n",
       "  W (write), A (alloc), X (execute), M (merge), S (strings), I (info),\n",
       "  L (link order), O (extra OS processing required), G (group), T (TLS),\n",
       "  C (compressed), x (unknown), o (OS specific), E (exclude),\n",
       "  l (large), p (processor specific)\n",
       "\n",
       "There are no section groups in this file.\n",
       "\n",
       "Program Headers:\n",
       "  Type           Offset             VirtAddr           PhysAddr\n",
       "                 FileSiz            MemSiz              Flags  Align\n",
       "  LOAD           0x0000000000000000 0x0000000000400000 0x0000000000400000\n",
       "                 0x000000000000010c 0x000000000000010c  R      0x1000\n",
       "  LOAD           0x0000000000001000 0x0000000000401000 0x0000000000401000\n",
       "                 0x0000000000000060 0x0000000000000060  R E    0x1000\n",
       "  NOTE           0x00000000000000e8 0x00000000004000e8 0x00000000004000e8\n",
       "                 0x0000000000000024 0x0000000000000024  R      0x4\n",
       "\n",
       " Section to Segment mapping:\n",
       "  Segment Sections...\n",
       "   00     .note.gnu.build-id \n",
       "   01     .text \n",
       "   02     .note.gnu.build-id \n",
       "\n",
       "There is no dynamic section in this file.\n",
       "\n",
       "There are no relocations in this file.\n",
       "\n",
       "The decoding of unwind sections for machine type Advanced Micro Devices X86-64 is not currently supported.\n",
       "\n",
       "Symbol table '.symtab' contains 14 entries:\n",
       "   Num:    Value          Size Type    Bind   Vis      Ndx Name\n",
       "     0: 0000000000000000     0 NOTYPE  LOCAL  DEFAULT  UND \n",
       "     1: 00000000004000e8     0 SECTION LOCAL  DEFAULT    1 \n",
       "     2: 0000000000401000     0 SECTION LOCAL  DEFAULT    2 \n",
       "     3: 0000000000000000     0 FILE    LOCAL  DEFAULT  ABS /tmp/cc0iG20S.o\n",
       "     4: 0000000000000001     0 NOTYPE  LOCAL  DEFAULT  ABS SYS_write\n",
       "     5: 000000000000003c     0 NOTYPE  LOCAL  DEFAULT  ABS SYS_exit\n",
       "     6: 0000000000401000     0 NOTYPE  LOCAL  DEFAULT    2 hello_world\n",
       "     7: 000000000040100d     0 NOTYPE  LOCAL  DEFAULT    2 strlen\n",
       "     8: 0000000000401022     0 NOTYPE  LOCAL  DEFAULT    2 puts\n",
       "     9: 000000000040103e     0 NOTYPE  LOCAL  DEFAULT    2 exit\n",
       "    10: 000000000040104e     0 NOTYPE  GLOBAL DEFAULT    2 _start\n",
       "    11: 0000000000402000     0 NOTYPE  GLOBAL DEFAULT    2 __bss_start\n",
       "    12: 0000000000402000     0 NOTYPE  GLOBAL DEFAULT    2 _edata\n",
       "    13: 0000000000402000     0 NOTYPE  GLOBAL DEFAULT    2 _end\n",
       "\n",
       "No version information found in this file.\n",
       "\n",
       "Displaying notes found in: .note.gnu.build-id\n",
       "  Owner                Data size \tDescription\n",
       "  GNU                  0x00000014\tNT_GNU_BUILD_ID (unique build ID bitstring)\n",
       "    Build ID: dd52a9b5c97804d7cc8dd25ebe9229850eec263c\n",
       "</code>"
      ]
     },
     "metadata": {},
     "output_type": "display_data"
    }
   ],
   "source": [
    "%readelf"
   ]
  },
  {
   "cell_type": "code",
   "execution_count": 7,
   "id": "synthetic-guinea",
   "metadata": {},
   "outputs": [
    {
     "data": {
      "text/html": [
       "<h3>asm</h3><code>\n",
       ".intel_syntax noprefix\n",
       ".global _start\n",
       ".set SYS_write, 1\n",
       ".set SYS_exit, 60\n",
       ".section .text\n",
       "\n",
       "hello_world:\n",
       ".string \"hello world\\n\"\n",
       "\n",
       "strlen:\n",
       "mov rax, 0\n",
       ".L.strlen.loop:\n",
       "mov bl, [rdi+rax]\n",
       "cmp bl, 0\n",
       "je .L.strlen.ret\n",
       "inc rax\n",
       "jmp .L.strlen.loop\n",
       ".L.strlen.ret:\n",
       "ret\n",
       "\n",
       "puts:\n",
       "mov rsi, rdi\n",
       "call strlen\n",
       "mov rdx, rax\n",
       "mov rdi, 1\n",
       "mov rax, SYS_write\n",
       "syscall\n",
       "ret\n",
       "\n",
       "exit:\n",
       "mov rdi, 0\n",
       "mov rax, SYS_exit\n",
       "syscall\n",
       "\n",
       "_start:\n",
       "lea rdi, hello_world\n",
       "call puts\n",
       "call exit\n",
       "\n",
       "</code>"
      ]
     },
     "metadata": {},
     "output_type": "display_data"
    }
   ],
   "source": [
    "%asm"
   ]
  },
  {
   "cell_type": "code",
   "execution_count": 8,
   "id": "buried-syntax",
   "metadata": {},
   "outputs": [
    {
     "data": {
      "text/html": [
       "<h3>gdb</h3><code>\n",
       "Program stopped.\n",
       "0x000000000040104e in _start ()\n",
       "Dump of assembler code for function _start:\n",
       "=> 0x000000000040104e <+0>:\tlea    rdi,ds:0x401000\n",
       "   0x0000000000401056 <+8>:\tcall   0x401022 <puts>\n",
       "   0x000000000040105b <+13>:\tcall   0x40103e <exit>\n",
       "End of assembler dump.\n",
       "process 31773\n",
       "Mapped address spaces:\n",
       "\n",
       "          Start Addr           End Addr       Size     Offset objfile\n",
       "            0x400000           0x402000     0x2000        0x0 /tmp/tmpwjjti_md\n",
       "      0x7ffff7ffb000     0x7ffff7ffe000     0x3000        0x0 [vvar]\n",
       "      0x7ffff7ffe000     0x7ffff7fff000     0x1000        0x0 [vdso]\n",
       "      0x7ffffffde000     0x7ffffffff000    0x21000        0x0 [stack]\n",
       "  0xffffffffff600000 0xffffffffff601000     0x1000        0x0 [vsyscall]\n",
       "</code>"
      ]
     },
     "metadata": {},
     "output_type": "display_data"
    }
   ],
   "source": [
    "%gdb\n",
    "set disassembly-flavor intel\n",
    "starti\n",
    "disas\n",
    "info proc mappings"
   ]
  },
  {
   "cell_type": "code",
   "execution_count": null,
   "id": "minus-native",
   "metadata": {},
   "outputs": [],
   "source": []
  }
 ],
 "metadata": {
  "kernelspec": {
   "display_name": "ASM",
   "language": "asm",
   "name": "asm"
  },
  "language_info": {
   "architecture": "x86",
   "file_extension": ".s",
   "mimetype": "text/x-gas",
   "name": "gas"
  }
 },
 "nbformat": 4,
 "nbformat_minor": 5
}
